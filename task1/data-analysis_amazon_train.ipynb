{
 "cells": [
  {
   "cell_type": "code",
   "execution_count": 1,
   "id": "1aa04e50",
   "metadata": {
    "execution": {
     "iopub.execute_input": "2025-07-04T08:42:35.451283Z",
     "iopub.status.busy": "2025-07-04T08:42:35.450765Z",
     "iopub.status.idle": "2025-07-04T08:42:45.890351Z",
     "shell.execute_reply": "2025-07-04T08:42:45.889316Z"
    },
    "papermill": {
     "duration": 10.449166,
     "end_time": "2025-07-04T08:42:45.892632",
     "exception": false,
     "start_time": "2025-07-04T08:42:35.443466",
     "status": "completed"
    },
    "tags": []
   },
   "outputs": [],
   "source": [
    "!pip install pandas numpy matplotlib seaborn --quiet\n",
    "import pandas as pd\n",
    "import numpy as np\n",
    "import matplotlib.pyplot as plt\n",
    "import seaborn as sns\n",
    "\n",
    "plt.style.use(\"default\")  # Seaborn varsayılanlarını bozma\n",
    "sns.set(rc={\"figure.dpi\": 110})\n"
   ]
  },
  {
   "cell_type": "code",
   "execution_count": 2,
   "id": "9963b268",
   "metadata": {
    "execution": {
     "iopub.execute_input": "2025-07-04T08:42:45.903126Z",
     "iopub.status.busy": "2025-07-04T08:42:45.902576Z",
     "iopub.status.idle": "2025-07-04T08:45:33.041597Z",
     "shell.execute_reply": "2025-07-04T08:45:33.040101Z"
    },
    "papermill": {
     "duration": 167.147141,
     "end_time": "2025-07-04T08:45:33.044340",
     "exception": false,
     "start_time": "2025-07-04T08:42:45.897199",
     "status": "completed"
    },
    "tags": []
   },
   "outputs": [],
   "source": [
    "!bunzip2 -c /kaggle/input/amazonreviews/train.ft.txt.bz2 \\\n",
    "  > /kaggle/working/train.ft.txt\n"
   ]
  },
  {
   "cell_type": "code",
   "execution_count": 3,
   "id": "682ec3f5",
   "metadata": {
    "execution": {
     "iopub.execute_input": "2025-07-04T08:45:33.054614Z",
     "iopub.status.busy": "2025-07-04T08:45:33.054181Z",
     "iopub.status.idle": "2025-07-04T08:45:33.063976Z",
     "shell.execute_reply": "2025-07-04T08:45:33.062867Z"
    },
    "papermill": {
     "duration": 0.017263,
     "end_time": "2025-07-04T08:45:33.065910",
     "exception": false,
     "start_time": "2025-07-04T08:45:33.048647",
     "status": "completed"
    },
    "tags": []
   },
   "outputs": [],
   "source": [
    "import bz2, itertools\n",
    "\n",
    "\n",
    "DATA_PATH = \"/kaggle/working/train.ft.txt\" \n",
    "\n",
    "def read_fasttext(path: str) -> pd.DataFrame:\n",
    "    \"\"\"\n",
    "    fastText formatındaki satırları ( '__label__X <metin>' ) \n",
    "    Pandas DataFrame'e dönüştürür.\n",
    "    \n",
    "    Parameters\n",
    "    ----------\n",
    "    path : str\n",
    "        .txt veya .bz2 dosya yolu.\n",
    "    \n",
    "    Returns\n",
    "    -------\n",
    "    pd.DataFrame\n",
    "        Kolonlar: 'label' (0=negatif, 1=pozitif), 'text'\n",
    "    \"\"\"\n",
    "    open_fn = bz2.open if path.endswith(\".bz2\") else open\n",
    "    labels, texts = [], []\n",
    "\n",
    "    with open_fn(path, mode=\"rt\", encoding=\"utf-8\", errors=\"ignore\") as f:\n",
    "        for line in f: # max_rows ve itertools.islice kaldırıldı\n",
    "            parts = line.rstrip(\"\\n\").split(\" \", 1)\n",
    "            if len(parts) != 2: # bozuk / boş satır\n",
    "                continue\n",
    "            lab, txt = parts\n",
    "            labels.append(1 if lab == \"__label__2\" else 0) # 1=pozitif, 0=negatif\n",
    "            texts.append(txt)\n",
    "\n",
    "    return pd.DataFrame({\"label\": labels, \"text\": texts})"
   ]
  },
  {
   "cell_type": "code",
   "execution_count": 4,
   "id": "4316853b",
   "metadata": {
    "execution": {
     "iopub.execute_input": "2025-07-04T08:45:33.075343Z",
     "iopub.status.busy": "2025-07-04T08:45:33.074873Z",
     "iopub.status.idle": "2025-07-04T08:45:41.166878Z",
     "shell.execute_reply": "2025-07-04T08:45:41.165972Z"
    },
    "papermill": {
     "duration": 8.098647,
     "end_time": "2025-07-04T08:45:41.168525",
     "exception": false,
     "start_time": "2025-07-04T08:45:33.069878",
     "status": "completed"
    },
    "tags": []
   },
   "outputs": [
    {
     "data": {
      "text/html": [
       "<div>\n",
       "<style scoped>\n",
       "    .dataframe tbody tr th:only-of-type {\n",
       "        vertical-align: middle;\n",
       "    }\n",
       "\n",
       "    .dataframe tbody tr th {\n",
       "        vertical-align: top;\n",
       "    }\n",
       "\n",
       "    .dataframe thead th {\n",
       "        text-align: right;\n",
       "    }\n",
       "</style>\n",
       "<table border=\"1\" class=\"dataframe\">\n",
       "  <thead>\n",
       "    <tr style=\"text-align: right;\">\n",
       "      <th></th>\n",
       "      <th>label</th>\n",
       "      <th>text</th>\n",
       "    </tr>\n",
       "  </thead>\n",
       "  <tbody>\n",
       "    <tr>\n",
       "      <th>0</th>\n",
       "      <td>1</td>\n",
       "      <td>Stuning even for the non-gamer: This sound tra...</td>\n",
       "    </tr>\n",
       "    <tr>\n",
       "      <th>1</th>\n",
       "      <td>1</td>\n",
       "      <td>The best soundtrack ever to anything.: I'm rea...</td>\n",
       "    </tr>\n",
       "    <tr>\n",
       "      <th>2</th>\n",
       "      <td>1</td>\n",
       "      <td>Amazing!: This soundtrack is my favorite music...</td>\n",
       "    </tr>\n",
       "    <tr>\n",
       "      <th>3</th>\n",
       "      <td>1</td>\n",
       "      <td>Excellent Soundtrack: I truly like this soundt...</td>\n",
       "    </tr>\n",
       "    <tr>\n",
       "      <th>4</th>\n",
       "      <td>1</td>\n",
       "      <td>Remember, Pull Your Jaw Off The Floor After He...</td>\n",
       "    </tr>\n",
       "  </tbody>\n",
       "</table>\n",
       "</div>"
      ],
      "text/plain": [
       "   label                                               text\n",
       "0      1  Stuning even for the non-gamer: This sound tra...\n",
       "1      1  The best soundtrack ever to anything.: I'm rea...\n",
       "2      1  Amazing!: This soundtrack is my favorite music...\n",
       "3      1  Excellent Soundtrack: I truly like this soundt...\n",
       "4      1  Remember, Pull Your Jaw Off The Floor After He..."
      ]
     },
     "execution_count": 4,
     "metadata": {},
     "output_type": "execute_result"
    }
   ],
   "source": [
    "df = read_fasttext(DATA_PATH)\n",
    "df.head()"
   ]
  },
  {
   "cell_type": "code",
   "execution_count": 5,
   "id": "e75740f9",
   "metadata": {
    "execution": {
     "iopub.execute_input": "2025-07-04T08:45:41.177758Z",
     "iopub.status.busy": "2025-07-04T08:45:41.177265Z",
     "iopub.status.idle": "2025-07-04T08:45:41.208445Z",
     "shell.execute_reply": "2025-07-04T08:45:41.207330Z"
    },
    "papermill": {
     "duration": 0.037553,
     "end_time": "2025-07-04T08:45:41.209954",
     "exception": false,
     "start_time": "2025-07-04T08:45:41.172401",
     "status": "completed"
    },
    "tags": []
   },
   "outputs": [
    {
     "name": "stdout",
     "output_type": "stream",
     "text": [
      "<class 'pandas.core.frame.DataFrame'>\n",
      "RangeIndex: 3600000 entries, 0 to 3599999\n",
      "Data columns (total 2 columns):\n",
      " #   Column  Dtype \n",
      "---  ------  ----- \n",
      " 0   label   int64 \n",
      " 1   text    object\n",
      "dtypes: int64(1), object(1)\n",
      "memory usage: 54.9+ MB\n"
     ]
    }
   ],
   "source": [
    "df.info()\n"
   ]
  },
  {
   "cell_type": "code",
   "execution_count": 6,
   "id": "fcb46d82",
   "metadata": {
    "execution": {
     "iopub.execute_input": "2025-07-04T08:45:41.219032Z",
     "iopub.status.busy": "2025-07-04T08:45:41.218644Z",
     "iopub.status.idle": "2025-07-04T08:45:46.690215Z",
     "shell.execute_reply": "2025-07-04T08:45:46.688949Z"
    },
    "papermill": {
     "duration": 5.478351,
     "end_time": "2025-07-04T08:45:46.692237",
     "exception": false,
     "start_time": "2025-07-04T08:45:41.213886",
     "status": "completed"
    },
    "tags": []
   },
   "outputs": [
    {
     "name": "stdout",
     "output_type": "stream",
     "text": [
      "Hiç eksik değer bulunmadı.\n",
      "\n",
      "Duplicate Kontrolü\n",
      "Duplicate satır bulunmadı.\n",
      "\n",
      "Veri Kümesi Boyutu: 3600000\n",
      "Sınıf Dağılımı (%):\n",
      "label\n",
      "1    50.0\n",
      "0    50.0\n",
      "Name: proportion, dtype: float64\n"
     ]
    }
   ],
   "source": [
    "\n",
    "na_report = df.isna().sum()\n",
    "total_na  = int(na_report.sum())\n",
    "\n",
    "if total_na == 0:\n",
    "    print(\"Hiç eksik değer bulunmadı.\")\n",
    "else:\n",
    "    print(f\"Toplam {total_na} eksik değer tespit edildi:\\n{na_report[na_report > 0]}\")\n",
    "\n",
    "# duplicate\n",
    "dup_mask = df.duplicated(subset=\"text\")\n",
    "n_dups   = int(dup_mask.sum())\n",
    "\n",
    "print(\"\\nDuplicate Kontrolü\")\n",
    "if n_dups == 0:\n",
    "    print(\"Duplicate satır bulunmadı.\")\n",
    "else:\n",
    "    print(f\"{n_dups} duplicate yorum metni bulundu; kayıtlar kaldırılıyor.\")\n",
    "    df = df.drop_duplicates(subset=\"text\").reset_index(drop=True)\n",
    "    print(f\"Temizlik sonrası satır sayısı: {len(df):,}\")\n",
    "\n",
    "print(\"\\nVeri Kümesi Boyutu:\", len(df))\n",
    "print(\"Sınıf Dağılımı (%):\")\n",
    "print(df['label']\n",
    "      .value_counts(normalize=True)\n",
    "      .mul(100)\n",
    "      .round(2))\n"
   ]
  },
  {
   "cell_type": "code",
   "execution_count": 7,
   "id": "06ac1813",
   "metadata": {
    "execution": {
     "iopub.execute_input": "2025-07-04T08:45:46.702358Z",
     "iopub.status.busy": "2025-07-04T08:45:46.701892Z",
     "iopub.status.idle": "2025-07-04T08:47:26.848339Z",
     "shell.execute_reply": "2025-07-04T08:47:26.847030Z"
    },
    "papermill": {
     "duration": 100.154067,
     "end_time": "2025-07-04T08:47:26.850609",
     "exception": false,
     "start_time": "2025-07-04T08:45:46.696542",
     "status": "completed"
    },
    "tags": []
   },
   "outputs": [],
   "source": [
    "df[\"word_cnt\"] = df[\"text\"].str.split().str.len()\n",
    "df[\"char_cnt\"] = df[\"text\"].str.len()\n"
   ]
  },
  {
   "cell_type": "code",
   "execution_count": 8,
   "id": "28bb8c25",
   "metadata": {
    "execution": {
     "iopub.execute_input": "2025-07-04T08:47:26.862206Z",
     "iopub.status.busy": "2025-07-04T08:47:26.860939Z",
     "iopub.status.idle": "2025-07-04T08:47:35.891941Z",
     "shell.execute_reply": "2025-07-04T08:47:35.890625Z"
    },
    "papermill": {
     "duration": 9.039298,
     "end_time": "2025-07-04T08:47:35.894808",
     "exception": false,
     "start_time": "2025-07-04T08:47:26.855510",
     "status": "completed"
    },
    "tags": []
   },
   "outputs": [
    {
     "data": {
      "text/html": [
       "<div>\n",
       "<style scoped>\n",
       "    .dataframe tbody tr th:only-of-type {\n",
       "        vertical-align: middle;\n",
       "    }\n",
       "\n",
       "    .dataframe tbody tr th {\n",
       "        vertical-align: top;\n",
       "    }\n",
       "\n",
       "    .dataframe thead th {\n",
       "        text-align: right;\n",
       "    }\n",
       "</style>\n",
       "<table border=\"1\" class=\"dataframe\">\n",
       "  <thead>\n",
       "    <tr style=\"text-align: right;\">\n",
       "      <th></th>\n",
       "      <th>word_cnt</th>\n",
       "      <th>char_cnt</th>\n",
       "    </tr>\n",
       "  </thead>\n",
       "  <tbody>\n",
       "    <tr>\n",
       "      <th>count</th>\n",
       "      <td>3.600000e+06</td>\n",
       "      <td>3.600000e+06</td>\n",
       "    </tr>\n",
       "    <tr>\n",
       "      <th>mean</th>\n",
       "      <td>7.848273e+01</td>\n",
       "      <td>4.316463e+02</td>\n",
       "    </tr>\n",
       "    <tr>\n",
       "      <th>std</th>\n",
       "      <td>4.283280e+01</td>\n",
       "      <td>2.375526e+02</td>\n",
       "    </tr>\n",
       "    <tr>\n",
       "      <th>min</th>\n",
       "      <td>2.000000e+00</td>\n",
       "      <td>7.200000e+01</td>\n",
       "    </tr>\n",
       "    <tr>\n",
       "      <th>25%</th>\n",
       "      <td>4.200000e+01</td>\n",
       "      <td>2.310000e+02</td>\n",
       "    </tr>\n",
       "    <tr>\n",
       "      <th>50%</th>\n",
       "      <td>7.000000e+01</td>\n",
       "      <td>3.830000e+02</td>\n",
       "    </tr>\n",
       "    <tr>\n",
       "      <th>75%</th>\n",
       "      <td>1.080000e+02</td>\n",
       "      <td>5.950000e+02</td>\n",
       "    </tr>\n",
       "    <tr>\n",
       "      <th>max</th>\n",
       "      <td>2.570000e+02</td>\n",
       "      <td>1.015000e+03</td>\n",
       "    </tr>\n",
       "  </tbody>\n",
       "</table>\n",
       "</div>"
      ],
      "text/plain": [
       "           word_cnt      char_cnt\n",
       "count  3.600000e+06  3.600000e+06\n",
       "mean   7.848273e+01  4.316463e+02\n",
       "std    4.283280e+01  2.375526e+02\n",
       "min    2.000000e+00  7.200000e+01\n",
       "25%    4.200000e+01  2.310000e+02\n",
       "50%    7.000000e+01  3.830000e+02\n",
       "75%    1.080000e+02  5.950000e+02\n",
       "max    2.570000e+02  1.015000e+03"
      ]
     },
     "execution_count": 8,
     "metadata": {},
     "output_type": "execute_result"
    }
   ],
   "source": [
    "df[[\"word_cnt\", \"char_cnt\"]].describe()"
   ]
  },
  {
   "cell_type": "code",
   "execution_count": 9,
   "id": "c69109fb",
   "metadata": {
    "execution": {
     "iopub.execute_input": "2025-07-04T08:47:35.914171Z",
     "iopub.status.busy": "2025-07-04T08:47:35.913477Z",
     "iopub.status.idle": "2025-07-04T08:47:36.538265Z",
     "shell.execute_reply": "2025-07-04T08:47:36.537049Z"
    },
    "papermill": {
     "duration": 0.633034,
     "end_time": "2025-07-04T08:47:36.540324",
     "exception": false,
     "start_time": "2025-07-04T08:47:35.907290",
     "status": "completed"
    },
    "tags": []
   },
   "outputs": [
    {
     "data": {
      "image/png": "[encoded data removed]",
      "text/plain": [
       "<Figure size 704x528 with 1 Axes>"
      ]
     },
     "metadata": {},
     "output_type": "display_data"
    }
   ],
   "source": [
    "sns.countplot(x=\"label\", data=df)\n",
    "plt.xticks([0,1],[\"Negatif (1-2*)\",\" Pozitif(4-5*)\"])\n",
    "plt.title(\"Sınıf Dağılımı\")\n",
    "plt.show()"
   ]
  },
  {
   "cell_type": "code",
   "execution_count": 10,
   "id": "8451174e",
   "metadata": {
    "execution": {
     "iopub.execute_input": "2025-07-04T08:47:36.550419Z",
     "iopub.status.busy": "2025-07-04T08:47:36.550114Z",
     "iopub.status.idle": "2025-07-04T08:47:37.183579Z",
     "shell.execute_reply": "2025-07-04T08:47:37.182472Z"
    },
    "papermill": {
     "duration": 0.640424,
     "end_time": "2025-07-04T08:47:37.185342",
     "exception": false,
     "start_time": "2025-07-04T08:47:36.544918",
     "status": "completed"
    },
    "tags": []
   },
   "outputs": [
    {
     "data": {
      "image/png": "[encoded data removed]",
      "text/plain": [
       "<Figure size 704x528 with 1 Axes>"
      ]
     },
     "metadata": {},
     "output_type": "display_data"
    }
   ],
   "source": [
    "sns.boxplot(x=\"label\",y=\"word_cnt\",data=df)\n",
    "plt.xticks([0,1],[\"Negatif\",\"Pozitif\"])\n",
    "plt.title(\"Kelime Sayısı - Rating\")\n",
    "plt.show()"
   ]
  },
  {
   "cell_type": "markdown",
   "id": "79d111e2",
   "metadata": {
    "papermill": {
     "duration": 0.004469,
     "end_time": "2025-07-04T08:47:37.194870",
     "exception": false,
     "start_time": "2025-07-04T08:47:37.190401",
     "status": "completed"
    },
    "tags": []
   },
   "source": [
    "### Box Plot (Kutu Grafiği) Nedir?  \n",
    "Bir box plot, sürekli verinin **merkezini** ve **yayılımını** tek bakışta gösteren özet grafiktir.\n",
    "\n",
    "| Eleman | Açıklama |\n",
    "|--------|----------|\n",
    "| **Kutu (box)** | Alt kenar = 1. çeyrek (Q1, %25) <br> Üst kenar = 3. çeyrek (Q3, %75) |\n",
    "| **Medyan çizgisi** | Kutunun içindeki yatay çizgi = %50 değer (Q2) |\n",
    "| **Whisker’lar** | Genelde *Q1 – 1.5×IQR* ile *Q3 + 1.5×IQR* (IQR = Q3 – Q1) arasındaki veriyi kapsar |\n",
    "| **Aykırı noktalar** | Whisker sınırlarının dışında kalan tekil gözlemler |\n",
    "\n",
    "> Kutu genişliği **dağılımın %50’sini** kapsar; whisker’lar “tipik” minimum–maksimum aralığı, aykırı noktalar ise sınır dışı değerleri gösterir.\n"
   ]
  },
  {
   "cell_type": "markdown",
   "id": "9d03b569",
   "metadata": {
    "papermill": {
     "duration": 0.004237,
     "end_time": "2025-07-04T08:47:37.203612",
     "exception": false,
     "start_time": "2025-07-04T08:47:37.199375",
     "status": "completed"
    },
    "tags": []
   },
   "source": [
    "### Grafiğin Yorumu (Kelime Sayısı × Rating)\n",
    "\n",
    "| Gözlem | Çıkarım |\n",
    "|--------|---------|\n",
    "| **Medyan**: Negatif ≈ 75 kelime, Pozitif ≈ 65 kelime | Olumsuz yorumlar ortalama ~10 kelime daha uzun. |\n",
    "| **IQR**: Her iki sınıfta ≈ 30–35 kelime | Yayılım benzer; kelime sayısındaki değişkenlik duyguya özel değil. |\n",
    "| **Whisker uzunluğu**: Negatif 210+ kelimeye uzanıyor, Pozitif ~200’de bitiyor | Çok uzun tiratlar çoğunlukla olumsuz yorumlara ait. |\n",
    "| **Aykırı değerler**: Negatifte 240–260 kelime civarı birkaç nokta | Özellikle detaylı şikâyet metinleri negatif tarafta yoğunlaşıyor. |\n",
    "| **Kutuların çakışması** | Dağılımların büyük kısmı üst üste geliyor | Kelime sayısı, duygu etiketini ayırmakta sınırlı bir özellik. |\n",
    "\n",
    "**Sonuç:** Kelime uzunluğu, sentiment sınıflandırmasında hafif bir eğilim (uzun = daha olumsuz) gösterse de ayırt edici gücü düşüktür; içerik temelli özellikler (TF-IDF, n-gram) ile desteklenmelidir.\n"
   ]
  },
  {
   "cell_type": "code",
   "execution_count": 11,
   "id": "6011d162",
   "metadata": {
    "execution": {
     "iopub.execute_input": "2025-07-04T08:47:37.215076Z",
     "iopub.status.busy": "2025-07-04T08:47:37.214702Z",
     "iopub.status.idle": "2025-07-04T08:47:52.919796Z",
     "shell.execute_reply": "2025-07-04T08:47:52.918562Z"
    },
    "papermill": {
     "duration": 15.712542,
     "end_time": "2025-07-04T08:47:52.921741",
     "exception": false,
     "start_time": "2025-07-04T08:47:37.209199",
     "status": "completed"
    },
    "tags": []
   },
   "outputs": [
    {
     "name": "stderr",
     "output_type": "stream",
     "text": [
      "/usr/local/lib/python3.11/dist-packages/seaborn/_oldcore.py:1119: FutureWarning: use_inf_as_na option is deprecated and will be removed in a future version. Convert inf values to NaN before operating instead.\n",
      "  with pd.option_context('mode.use_inf_as_na', True):\n",
      "/usr/local/lib/python3.11/dist-packages/seaborn/_oldcore.py:1075: FutureWarning: When grouping with a length-1 list-like, you will need to pass a length-1 tuple to get_group in a future version of pandas. Pass `(name,)` instead of `name` to silence this warning.\n",
      "  data_subset = grouped_data.get_group(pd_key)\n",
      "/usr/local/lib/python3.11/dist-packages/seaborn/_oldcore.py:1075: FutureWarning: When grouping with a length-1 list-like, you will need to pass a length-1 tuple to get_group in a future version of pandas. Pass `(name,)` instead of `name` to silence this warning.\n",
      "  data_subset = grouped_data.get_group(pd_key)\n"
     ]
    },
    {
     "data": {
      "image/png": "[encoded data removed]",
      "text/plain": [
       "<Figure size 704x528 with 1 Axes>"
      ]
     },
     "metadata": {},
     "output_type": "display_data"
    }
   ],
   "source": [
    "sns.kdeplot(data=df, x =\"word_cnt\", hue=\"label\" , common_norm=False, fill=True)\n",
    "plt.title(\"Kelime Sayısı Dağılımı\")\n",
    "plt.show()"
   ]
  },
  {
   "cell_type": "markdown",
   "id": "9b1a3389",
   "metadata": {
    "papermill": {
     "duration": 0.005853,
     "end_time": "2025-07-04T08:47:52.934312",
     "exception": false,
     "start_time": "2025-07-04T08:47:52.928459",
     "status": "completed"
    },
    "tags": []
   },
   "source": [
    "> **Not: KDE (Kernel Density Estimation) Nedir?**  \n",
    "> - Histogramın çubuklu görünümünü pürüzsüz bir **olasılık yoğunluk eğrisi** (PDF) ile temsil eder.  \n",
    "> - Mantık: Her veri noktasının çevresine küçük bir “tümsek” (*kernel*) koyup hepsini toplarız.  \n",
    "> - *Bant genişliği* (smoothing parametresi) küçüldükçe eğri detaylı, büyüdükçe daha düz olur.  \n",
    "> - Eğri altında kalan alan **1**’dir; tepe noktaları verinin en yoğun olduğu aralıkları gösterir.  \n",
    "> - Farklı sınıfların KDE’lerini aynı eksende çizmek, dağılımların ne kadar örtüştüğünü veya ayrıştığını görmeye yarar.\n"
   ]
  },
  {
   "cell_type": "code",
   "execution_count": 12,
   "id": "0934c02a",
   "metadata": {
    "execution": {
     "iopub.execute_input": "2025-07-04T08:47:52.948198Z",
     "iopub.status.busy": "2025-07-04T08:47:52.947753Z",
     "iopub.status.idle": "2025-07-04T08:47:54.300257Z",
     "shell.execute_reply": "2025-07-04T08:47:54.299271Z"
    },
    "papermill": {
     "duration": 1.361651,
     "end_time": "2025-07-04T08:47:54.302059",
     "exception": false,
     "start_time": "2025-07-04T08:47:52.940408",
     "status": "completed"
    },
    "tags": []
   },
   "outputs": [
    {
     "name": "stdout",
     "output_type": "stream",
     "text": [
      "Spearman rho(label, word_cnt) = -0.080\n"
     ]
    }
   ],
   "source": [
    "rho = df[[\"label\", \"word_cnt\"]].corr(method=\"spearman\").iloc[0, 1]\n",
    "print(f\"Spearman rho(label, word_cnt) = {rho:.3f}\")"
   ]
  },
  {
   "cell_type": "markdown",
   "id": "0146ce1c",
   "metadata": {
    "papermill": {
     "duration": 0.005712,
     "end_time": "2025-07-04T08:47:54.313943",
     "exception": false,
     "start_time": "2025-07-04T08:47:54.308231",
     "status": "completed"
    },
    "tags": []
   },
   "source": [
    "## \n",
    "- **Spearman ρ**(kelime sayısı, label) = **–0.078**  \n",
    "  - 0’a çok yakın ⇒ ilişki zayıf.  \n",
    "- Lojistik regresyon eğrisi ↘︎ negatif; kelime sayısı arttıkça pozitif olma olasılığı çok hafif azalıyor.\n",
    "\n",
    "\n",
    "\n",
    "1. Veri kümesi dengeli \n",
    "2. Negatif yorumlar ortalama biraz daha uzun görünse de dağılımlar büyük ölçüde çakışıyor.  \n",
    "3. Kelime sayısı, duygu etiketini açıklamada istatistiksel olarak zayıf kalıyor (ρ≈–0.08).\n"
   ]
  },
  {
   "cell_type": "markdown",
   "id": "2ed785a2",
   "metadata": {
    "papermill": {
     "duration": 0.005612,
     "end_time": "2025-07-04T08:47:54.325421",
     "exception": false,
     "start_time": "2025-07-04T08:47:54.319809",
     "status": "completed"
    },
    "tags": []
   },
   "source": [
    "##\n",
    "Spearman ρ (rho), istatistikte Spearman Sıra Korelasyon Katsayısı olarak bilinen ve iki değişken arasındaki ilişkinin gücünü ve yönünü ölçen parametrik olmayan bir istatistiksel ölçüdür. Pearson korelasyon katsayısının aksine, Spearman ρ verilerin normal dağılım göstermesi varsayımını gerektirmez ve doğrusal olmayan, ancak monotonik ilişkileri değerlendirmek için daha uygundur.\n",
    "\n",
    "Sıralı Verilerle Çalışır: Spearman ρ, verilerin kendisiyle değil, verilerin sıralamalarıyla çalışır. Yani, her bir değişkendeki değerler küçükten büyüğe (veya büyükten küçüğe) sıralanır ve bu sıralamalar arasındaki farklar analiz edilir. Bu, özellikle ordinal (sıralı) ölçekte ölçülmüş veriler veya sayısal olup normal dağılıma uymayan veriler için çok kullanışlıdır.\n",
    "\n",
    "Monotonik İlişkiyi Ölçer: Monotonik ilişki, bir değişken arttığında diğer değişkenin ya sürekli artması ya da sürekli azalması anlamına gelir. İlişkinin doğrusal olması şart değildir. Örneğin, bir öğrencinin ders çalışma süresi arttıkça notlarının da artması (doğrusal olmasa bile), monotonik bir ilişkidir.\n",
    "\n",
    "Değer Aralığı: Spearman ρ değeri -1 ile +1 arasında değişir:\n",
    "\n",
    "+1: Mükemmel pozitif monotonik ilişki. Bir değişkenin sıralaması arttıkça, diğer değişkenin sıralaması da aynı yönde mükemmel bir şekilde artar.\n",
    "\n",
    "-1: Mükemmel negatif monotonik ilişki. Bir değişkenin sıralaması arttıkça, diğer değişkenin sıralaması ters yönde mükemmel bir şekilde azalır.\n",
    "\n",
    "0: Değişkenler arasında monotonik bir ilişki yoktur. Sıralamalar rastgele dağılmıştır"
   ]
  }
 ],
 "metadata": {
  "kaggle": {
   "accelerator": "none",
   "dataSources": [
    {
     "datasetId": 1305,
     "sourceId": 800230,
     "sourceType": "datasetVersion"
    }
   ],
   "dockerImageVersionId": 31040,
   "isGpuEnabled": false,
   "isInternetEnabled": false,
   "language": "python",
   "sourceType": "notebook"
  },
  "kernelspec": {
   "display_name": "Python 3",
   "language": "python",
   "name": "python3"
  },
  "language_info": {
   "codemirror_mode": {
    "name": "ipython",
    "version": 3
   },
   "file_extension": ".py",
   "mimetype": "text/x-python",
   "name": "python",
   "nbconvert_exporter": "python",
   "pygments_lexer": "ipython3",
   "version": "3.11.11"
  },
  "papermill": {
   "default_parameters": {},
   "duration": 326.205654,
   "end_time": "2025-07-04T08:47:56.157480",
   "environment_variables": {},
   "exception": null,
   "input_path": "__notebook__.ipynb",
   "output_path": "__notebook__.ipynb",
   "parameters": {},
   "start_time": "2025-07-04T08:42:29.951826",
   "version": "2.6.0"
  }
 },
 "nbformat": 4,
 "nbformat_minor": 5
}
